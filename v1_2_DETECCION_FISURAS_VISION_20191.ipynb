{
  "nbformat": 4,
  "nbformat_minor": 0,
  "metadata": {
    "colab": {
      "name": "v1-2_DETECCION_FISURAS_VISION_20191.ipynb",
      "version": "0.3.2",
      "provenance": [],
      "toc_visible": true,
      "include_colab_link": true
    },
    "kernelspec": {
      "name": "python3",
      "display_name": "Python 3"
    }
  },
  "cells": [
    {
      "cell_type": "markdown",
      "metadata": {
        "id": "view-in-github",
        "colab_type": "text"
      },
      "source": [
        "<a href=\"https://colab.research.google.com/github/ZurMaD/crack-segmentation/blob/master/v1_2_DETECCION_FISURAS_VISION_20191.ipynb\" target=\"_parent\"><img src=\"https://colab.research.google.com/assets/colab-badge.svg\" alt=\"Open In Colab\"/></a>"
      ]
    },
    {
      "cell_type": "markdown",
      "metadata": {
        "id": "5bWzXXNCJ7Uy",
        "colab_type": "text"
      },
      "source": [
        "\n",
        "\n",
        "---\n",
        "\n",
        "# DETECCIÓN Y REPORTE DE FISURAS MEDIANTE VISIÓN POR COMPUTADORA EN COMPONENTES DE MOTOR DE TRACCIÓN DE CAMIÓN MINERO KOMATSU 930 E4 USANDO PARTÍCULAS MAGNÉTICAS COMO ENSAYO NO DESTRUCTIVO\n",
        "\n",
        "---\n",
        "\n",
        "Paper: https://drive.google.com/open?id=1jkNjCIlvKNyXfkq8bYGxT4eknEYtQK7D9Er-XZLoiH4"
      ]
    },
    {
      "cell_type": "markdown",
      "metadata": {
        "id": "dXdxjd5v39AR",
        "colab_type": "text"
      },
      "source": [
        "## 0) Librerías, funciones generales y específicas"
      ]
    },
    {
      "cell_type": "markdown",
      "metadata": {
        "id": "Bbg75_JQtAbH",
        "colab_type": "text"
      },
      "source": [
        "### Funciones generales\n"
      ]
    },
    {
      "cell_type": "code",
      "metadata": {
        "id": "nKg6OT6GapZH",
        "colab_type": "code",
        "outputId": "9565a927-1a6d-4ade-a6c2-4a4612a320e4",
        "colab": {
          "base_uri": "https://localhost:8080/"
        }
      },
      "source": [
        "\"\"\"\n",
        "Instalaremos algunas librerías para evitar el mal\n",
        "funcionamiento en Jupyter Notebooks, si faltase \n",
        "alguna librería agregar aquí.\n",
        "\"\"\"\n",
        "\n",
        "!pip install opencv-python # For Morphology and Image Processing in General\n",
        "!pip install numpy # For control of images as array\n",
        "!pip install pandas # For select important crack\n",
        "!pip install matplotlib # For plot \n",
        "!pip install ipywidgets # For clear options and plotting\n",
        "!pip install scikit-image # For Image Control\n",
        "!pip install statistics # For standart deviation\n",
        "!pip install fpdf # For PDF report\n",
        "\n",
        "# Install other if it's necesarry\n",
        "# Colab have already installed a lot of these libraries \n",
        "\n",
        "from IPython.display import clear_output\n",
        "import cv2\n",
        "clear_output() # Borramos output\n",
        "print(\"OpenCV Version: {}\".format(cv2.__version__))"
      ],
      "execution_count": 0,
      "outputs": [
        {
          "output_type": "stream",
          "text": [
            "OpenCV Version: 3.4.3\n"
          ],
          "name": "stdout"
        }
      ]
    },
    {
      "cell_type": "markdown",
      "metadata": {
        "id": "grBndO2Wr67l",
        "colab_type": "text"
      },
      "source": [
        "### Funciones procesamiento de imagenes"
      ]
    },
    {
      "cell_type": "code",
      "metadata": {
        "id": "rqVBm8eQNl5K",
        "colab_type": "code",
        "colab": {}
      },
      "source": [
        "\"\"\"\n",
        "Las siguientes funciones se crearon para reducir la complejidad \n",
        "del código considerando el procesamiento que se realizá.\n",
        "\n",
        "De haber cambios en alguna de estas funciones, más que todo\n",
        "en las morfológicas se debe tener en cuenta que estas son \n",
        "usadas en diferentes partes del programa.\n",
        "\"\"\"\n",
        "\n",
        "import cv2\n",
        "import numpy as np\n",
        "from matplotlib import pyplot as plt\n",
        "from ipywidgets import interact\n",
        "import ipywidgets as widgets\n",
        "import statistics\n",
        "from google.colab.patches import cv2_imshow # For imshow in Colab\n",
        "\n",
        "def load_image(image):\n",
        "  x = cv2.imread(image)  \n",
        "  imagenes.append(x)\n",
        "  print(\"Se ha usado load_image().\")\n",
        "  return x\n",
        "\n",
        "# DEPRECATED FUNCTION\n",
        "# def load_image_color(image):\n",
        "#   x=cv2.imread(image)\n",
        "#   img_r=x[:,:,0]\n",
        "#   img_g=x[:,:,1]\n",
        "#   img_b=x[:,:,2]\n",
        "#   imagenes.append(x)\n",
        "#   imagenes.append(img_r)\n",
        "#   imagenes.append(img_g)\n",
        "#   imagenes.append(img_b)\n",
        "#   print(\"Se ha usado load_image_color().\")\n",
        "#   return (x,img_r,img_g,img_b)\n",
        "\n",
        "def load_image_color_fixed(image):  \n",
        "  x=cv2.imread(image,cv2.IMREAD_COLOR)\n",
        "  blue=x[:,:,0]#   print(\"Canal B\")\n",
        "  green=x[:,:,1]#   print(\"Canal G\")\n",
        "  red=x[:,:,2]#   print(\"Canal R\")\n",
        "  imagenes.append(x)\n",
        "  imagenes.append(red)\n",
        "  imagenes.append(green)\n",
        "  imagenes.append(blue)\n",
        "  print(\"Se ha usado load_image_color_fixed().\")\n",
        "  return (x,red,green,blue)\n",
        "  \n",
        "def invert_image(image):\n",
        "  x=255-image\n",
        "  imagenes.append(x)\n",
        "  print(\"Se ha usado invert_image().\")\n",
        "  return x\n",
        "\n",
        "def erosionar(image):\n",
        "  x = cv2.erode(image,\n",
        "                kernel,\n",
        "                iterations = 1)\n",
        "  imagenes.append(x)\n",
        "  print(\"Se ha usado erosionar().\")\n",
        "  return x\n",
        "\n",
        "def dilatar(image):\n",
        "  x = cv2.dilate(image,\n",
        "                 kernel,\n",
        "                 iterations = 1)\n",
        "  imagenes.append(x)\n",
        "  print(\"Se ha usado dilatar().\")\n",
        "  return x\n",
        "\n",
        "def rgb2hsi(image):\n",
        "  x=cv2.cvtColor(image,\n",
        "                 cv2.COLOR_BGR2HSV)\n",
        "  imagenes.append(x)\n",
        "  print(\"Se ha usado rgb2hsi().\")\n",
        "  return x\n",
        "\n",
        "def rgb2gray(image):\n",
        "  x = cv2.cvtColor(image,\n",
        "                   cv2.COLOR_BGR2GRAY)\n",
        "  imagenes.append(x)\n",
        "  print(\"Se ha usado rgb2gray().\")\n",
        "  return x\n",
        "\n",
        "def filtro_promedio(image):\n",
        "  x = cv2.blur(image,\n",
        "               (3,3))\n",
        "  imagenes.append(x)\n",
        "  print(\"Se ha usado filtro_promedio().\")\n",
        "  return x\n",
        "\n",
        "def filtro_gaussiano(image):\n",
        "  x = cv2.GaussianBlur(image,\n",
        "                       (5,5),\n",
        "                       0)\n",
        "  imagenes.append(x)\n",
        "  print(\"Se ha usado filtro_gaussiano().\")\n",
        "  return x\n",
        "\n",
        "def filtro_mediano(image):\n",
        "  \n",
        "  x = cv2.medianBlur(image,\n",
        "                     3)\n",
        "  imagenes.append(x)\n",
        "  print(\"Se ha usado filtro_median().\")\n",
        "  return x\n",
        "\n",
        "def filtro_bilateral(image):\n",
        "  x = cv2.bilateralFilter(image,\n",
        "                          9,\n",
        "                          75,\n",
        "                          75)\n",
        "  imagenes.append(x)\n",
        "  print(\"Se ha usado filtro_bilateral().\")\n",
        "  return x\n",
        "\n",
        "def opening(image):\n",
        "  x= cv2.morphologyEx(image,\n",
        "                      cv2.MORPH_OPEN,\n",
        "                      kernel)\n",
        "  imagenes.append(x)\n",
        "  print(\"Se ha usado opening().\")\n",
        "  return x\n",
        "\n",
        "def closing(image):\n",
        "  x = cv2.morphologyEx(image,\n",
        "                       cv2.MORPH_CLOSE,\n",
        "                       kernel)\n",
        "  imagenes.append(x)\n",
        "  print(\"Se ha usado closing().\")\n",
        "  return x\n",
        "\n",
        "def gradiente(image):\n",
        "  x = cv2.morphologyEx(image,\n",
        "                       cv2.MORPH_GRADIENT,\n",
        "                       kernel)\n",
        "  imagenes.append(x)\n",
        "  print(\"Se ha usado gradiente().\")\n",
        "  return x\n",
        "\n",
        "def resize(image,w,h):\n",
        "  x=cv2.resize(image, (w, h)) \n",
        "  \n",
        "  imagenes.append(x)\n",
        "  print(\"Se ha usado resize().\")\n",
        "  return x\n",
        "\n",
        "def img_resize(image,porcentaje):\n",
        "  x=cv2.resize(image, (0,0),fx=porcentaje,fy=porcentaje) \n",
        "  \n",
        "  imagenes.append(x)\n",
        "  print(\"Se ha usado resize().\")\n",
        "  return x\n",
        "\n",
        "def thr_adaptative(image):\n",
        "  x = cv2.adaptiveThreshold(image,\n",
        "                             255,\n",
        "                             cv2.ADAPTIVE_THRESH_MEAN_C,\n",
        "                             cv2.THRESH_BINARY,\n",
        "                             11,\n",
        "                             2)\n",
        "  imagenes.append(x)\n",
        "  print(\"Se ha usado thr_adaptative().\")\n",
        "  return x\n",
        "\n",
        "def thr(image,thr=5):\n",
        "  ret,x = cv2.threshold(image,\n",
        "                        thr,\n",
        "                        255,\n",
        "                        cv2.THRESH_BINARY)\n",
        "  imagenes.append(x)\n",
        "  print(\"Se ha usado thr().\")\n",
        "  return x\n",
        "\n",
        "def thr_otsu(image):\n",
        "  ret,x = cv2.threshold(image,\n",
        "                        0,\n",
        "                        255,\n",
        "                        cv2.THRESH_BINARY+cv2.THRESH_OTSU)\n",
        "  imagenes.append(x)\n",
        "  print(\"Se ha usado thr_otsu().\")\n",
        "  return x\n",
        "\n",
        "def thr_otsu_gaussian(image):\n",
        "  blur = cv2.GaussianBlur(image,\n",
        "                          (5,5),\n",
        "                          0)\n",
        "  ret,x = cv2.threshold(blur,\n",
        "                        0,\n",
        "                        255,\n",
        "                        cv2.THRESH_BINARY+cv2.THRESH_OTSU)\n",
        "  imagenes.append(x)\n",
        "  print(\"Se ha usado thr_otsu_gaussian().\")\n",
        "  return x\n",
        "\n",
        "def ecualizar(image):\n",
        "  x=cv2.equalizeHist(image)\n",
        "  imagenes.append(x)\n",
        "  print(\"Se ha usado ecualizar().\")\n",
        "  return x\n",
        "\n",
        "def esqueletizar(image):\n",
        "  \n",
        "  element = cv2.getStructuringElement(cv2.MORPH_CROSS,\n",
        "                                      (3,3))\n",
        "  done = False  \n",
        "  size = np.size(image)  \n",
        "  skel = np.zeros(image.shape,np.uint8)\n",
        "  while(not done):\n",
        "      eroded = cv2.erode(image,\n",
        "                         element)\n",
        "      temp = cv2.dilate(eroded,\n",
        "                        element)\n",
        "      temp = cv2.subtract(image,\n",
        "                          temp)\n",
        "      skel = cv2.bitwise_or(skel,\n",
        "                            temp)\n",
        "      image = eroded.copy()\n",
        "      zeros = size - cv2.countNonZero(image)\n",
        "      if zeros==size:\n",
        "          done = True\n",
        "  imagenes.append(skel)\n",
        "  print(\"Se ha usado esqueletizar().\")\n",
        "  return skel\n",
        "\n",
        "def contornear(image):  \n",
        "  x, contours, hierarchy = cv2.findContours(image, \n",
        "                                            cv2.RETR_TREE,\n",
        "                                            cv2.CHAIN_APPROX_SIMPLE)\n",
        "  y= cv2.drawContours(image,\n",
        "                      contours,\n",
        "                      -1, \n",
        "                      255,\n",
        "                      1)  \n",
        "  print(\"Se ha usado contornear().\")\n",
        "  return x, y\n",
        "\n",
        "def mask(image,masked):\n",
        "  x=cv2.bitwise_and(image,\n",
        "                    masked)\n",
        "  imagenes.append(x)\n",
        "  print(\"Se ha usado mask().\")\n",
        "  return x"
      ],
      "execution_count": 0,
      "outputs": []
    },
    {
      "cell_type": "markdown",
      "metadata": {
        "id": "G-eAuraBr_JX",
        "colab_type": "text"
      },
      "source": [
        "### Funciones selección de constantes"
      ]
    },
    {
      "cell_type": "code",
      "metadata": {
        "id": "sHabUvtGq7Pl",
        "colab_type": "code",
        "colab": {}
      },
      "source": [
        "\"\"\"\n",
        "Las siguientes funciones se realizaron con el objetivo de encontrar\n",
        "parámetros específicos en el proyecto. Se usaron medios\n",
        "interactivos para realizar esta labor.\n",
        "\"\"\"\n",
        "def select_edge_canny(thr1=5,thr2=5):\n",
        "  x = cv2.Canny(image, # imagen\n",
        "                thr1,  # threshold1\n",
        "                thr2,  # threshold2\n",
        "                 3)    # aperture size for the Sobel operator\n",
        "  plt.imshow(x,\n",
        "             cmap='gray')\n",
        "  plt.show()\n",
        "  plt.hist(image.ravel(),\n",
        "           255)\n",
        "  plt.show()  \n",
        "  #   imagenes.append(x)\n",
        "  # For select purposes we dont use append\n",
        "  print(\"Se ha usado select_edge_canny().\")\n",
        "  return x\n",
        "\n",
        "def select_2thr(thr1=5,thr2=5):  \n",
        "  x=cv2.inRange(image, thr1, thr2)\n",
        "  # For select purposes we don't use this sentence\n",
        "  # image=cv2.bitwise_not(image, image2)    \n",
        "  plt.imshow(x,\n",
        "             cmap='gray')\n",
        "  plt.show()\n",
        "  plt.hist(x.ravel(),\n",
        "          255)\n",
        "  plt.show()\n",
        "  print(\"Se ha usado select_2thr().\")\n",
        "  return x  \n",
        "\n",
        "def select_1thr(thr=5):  \n",
        "  ret,x=cv2.threshold(image,\n",
        "                  thr,\n",
        "                  255,\n",
        "                  cv2.THRESH_BINARY)  \n",
        "  plt.imshow(x,\n",
        "            cmap='gray')\n",
        "  plt.show()\n",
        "  print(\"Se ha usado select_1thr().\")\n",
        "  return x"
      ],
      "execution_count": 0,
      "outputs": []
    },
    {
      "cell_type": "markdown",
      "metadata": {
        "id": "NYsAbdL0sqlR",
        "colab_type": "text"
      },
      "source": [
        "### Frecuencia de valores únicos en imagen"
      ]
    },
    {
      "cell_type": "code",
      "metadata": {
        "id": "lg5WzX3RQgLh",
        "colab_type": "code",
        "colab": {}
      },
      "source": [
        "\"\"\"\n",
        "Esta función nos indica la frecuencia de cada valor \n",
        "que aparece en un array. Es usado para calcular la\n",
        "cantidad de pixeles blancos en una imagen binaria.\n",
        "\n",
        "Esta función devuelve la frecuencia de cada\n",
        "número en un arreglo (array) del tipo numpy.\n",
        "\"\"\"\n",
        "def array_frequency(array):\n",
        "  unique_elements, counts_elements = np.unique(image, return_counts=True)\n",
        "  # Si desea verificar la cantidad de valores porfavor \n",
        "  # des-comente las siguientes líneas.\n",
        "  #   print(np.asarray((unique_elements, # Números existentes\n",
        "  #                   counts_elements))) # Frecuencia de aparición de los números\n",
        "  print(\"Se ha usado array_frequency().\")\n",
        "  return unique_elements, counts_elements"
      ],
      "execution_count": 0,
      "outputs": []
    },
    {
      "cell_type": "markdown",
      "metadata": {
        "id": "yifxD_CLurWF",
        "colab_type": "text"
      },
      "source": [
        "### Segmentación por desviación estándar"
      ]
    },
    {
      "cell_type": "code",
      "metadata": {
        "id": "ssu1RkV2MhM5",
        "colab_type": "code",
        "colab": {}
      },
      "source": [
        "\"\"\"\n",
        "Esta función segmenta mediante la desviación estándar de una región\n",
        "si esta supera una desviación estándar máxima se transforma a cero.\n",
        "\n",
        "Esta función depende de cada cuantos pixeles cuadrados se\n",
        "separa la imagen y cuánta desviación máxima se soporta en cada\n",
        "uno de estos recuadros.\n",
        "\"\"\"\n",
        "def segmentation_devstd(image,pixel_size=100,max_deviation=50):\n",
        "  image_loaded=image.copy()\n",
        "  rectangle=image.copy()\n",
        "  ejex=len(image[:,1])\n",
        "  ejey=len(image[1,:])\n",
        "  max_pixelx=round(ejex/pixel_size)-1\n",
        "  max_pixely=round(ejey/pixel_size)-1\n",
        "  black=0\n",
        "  for pixelx in range(max_pixelx): \n",
        "    for pixely in range(max_pixely):     \n",
        "      x1=pixelx*pixel_size\n",
        "      y1=pixely*pixel_size\n",
        "      x2=(pixelx+1)*pixel_size\n",
        "      y2=(pixely+1)*pixel_size\n",
        "      \n",
        "      # Extrae una parte de la imagen y la almacena en un buffer\n",
        "      rectangle_buffer=image[x1:x2,y1:y2]\n",
        "      \n",
        "      # Calcula la desviación estándar del buffer\n",
        "      rectangle_std_dev=np.std(rectangle_buffer) \n",
        "      \n",
        "      # Si el buffer excede una desviación máxima\n",
        "      # se cambia los valores de los pixeles a 255\n",
        "      if rectangle_std_dev>max_deviation:\n",
        "        rectangle[x1:x2,y1:y2]=black\n",
        "      else:\n",
        "        rectangle[x1:x2,y1:y2]=255\n",
        "  print(\"Se ha usado segmentation_devstd().\")\n",
        "  return rectangle[0:max_pixelx*pixel_size,0:max_pixely*pixel_size]\n",
        "# +image_loaded[0:max_pixelx*pixel_size,0:max_pixely*pixel_size]\n",
        "\n",
        "\"\"\"\n",
        "Esta función realiza la misma función que la anterior pero lo hace\n",
        "mediante un entorno interactivo, se cambian algunas cosas.\n",
        "\n",
        "ESTADO_ACTUAL = NO FUNCIONA\n",
        "\"\"\"\n",
        "\n",
        "clear_output() # Borramos output"
      ],
      "execution_count": 0,
      "outputs": []
    },
    {
      "cell_type": "markdown",
      "metadata": {
        "id": "qYjn2I_mvFuT",
        "colab_type": "text"
      },
      "source": [
        "### Imprimir todas las modificaciones de las imagenes."
      ]
    },
    {
      "cell_type": "code",
      "metadata": {
        "id": "8sUopR99VNRC",
        "colab_type": "code",
        "colab": {}
      },
      "source": [
        "\"\"\"\n",
        "Imprime todas las image dentro del arreglo imagenes.\n",
        "\"\"\"\n",
        "def imprimir():\n",
        "  print(\"Se va a imprimir todas las imagenes.\")\n",
        "  for i in range(len(imagenes)):\n",
        "    plt.title(i)\n",
        "\n",
        "    plt.subplot(1,2,1),\n",
        "    plt.imshow(imagenes[i],\n",
        "               cmap='gray')\n",
        "\n",
        "    plt.subplot(1,2,2),\n",
        "    plt.hist(imagenes[i].ravel(),\n",
        "             256)\n",
        "    plt.show()\n",
        "    \n",
        "    title='fisura_'+str(i)+'.jpg'\n",
        "    plt.imshow(imagenes[i],cmap='gray')\n",
        "    plt.savefig(title, format='png', dpi=1000)\n",
        "    plt.show()\n",
        "\n",
        "  print(\"Se ha usado imprimir().\")\n",
        "\n",
        "\"\"\"\n",
        "Reinicia las variables y arreglos.\n",
        "Se recomienda su uso para evitar confusiones\n",
        "al usar notebooks virtuales\n",
        "\"\"\"\n",
        "def reiniciar():\n",
        "  imagenes=[] # Conjunto de imágenes se imprimirán luego\n",
        "  kernel = np.ones((3,3),np.uint8) # Usado en algoritmos"
      ],
      "execution_count": 0,
      "outputs": []
    },
    {
      "cell_type": "markdown",
      "metadata": {
        "id": "rqGX0KSbtR5T",
        "colab_type": "text"
      },
      "source": [
        "### Eliminar fecha de la imagen"
      ]
    },
    {
      "cell_type": "code",
      "metadata": {
        "id": "GQ-I1fndo5dQ",
        "colab_type": "code",
        "colab": {}
      },
      "source": [
        "\"\"\"\n",
        "Algunas imagenes que se procesan contienen también\n",
        "la fecha dentro de la imagen, esta función genera\n",
        "un cuadro negro encima de la fecha para evitar revisar\n",
        "esa zona.\n",
        "\n",
        "La posición de la fecha tiene una posición fija. Se ha\n",
        "considerado dimensiones proporcionales a las de la imagen\n",
        "\"\"\"\n",
        "def remove_date(image):  \n",
        "  h=len(image[:,1])\n",
        "  w=len(image[1,:])\n",
        "  print ('Image size:',w,'x',h)\n",
        "  print ('Deleting date info . . .')  \n",
        "  x1=round(0.781*w)\n",
        "  x2=round(0.936*w)\n",
        "  y1=round(0.830*h)\n",
        "  y2=round(0.890*h)    \n",
        "  image[y1:y2,x1:x2]=0  \n",
        "  print(str(x1)+':'+str(x2),str(y1)+':'+str(y2))  \n",
        "  x=image  \n",
        "  print(\"Se ha usado remove_date().\")\n",
        "  return x "
      ],
      "execution_count": 0,
      "outputs": []
    },
    {
      "cell_type": "markdown",
      "metadata": {
        "id": "8011QCptkujv",
        "colab_type": "text"
      },
      "source": [
        "## 1) Función: Image Pre-Processing\n",
        "\n",
        "A Technique based on Image Processing for Measuring Cracks in the Surface of\n",
        "Concrete Structures"
      ]
    },
    {
      "cell_type": "code",
      "metadata": {
        "id": "hc8aGeVUkuP5",
        "colab_type": "code",
        "colab": {}
      },
      "source": [
        "\"\"\"\n",
        "Esta función sirve como pre-procesamiento\n",
        "de las imágenes para poder detectar correctamente\n",
        "las fisuras y encontrar los mejores parámetros de \n",
        "segmentación por tamaño de pixel cuadrado a evaluar y\n",
        "la desviación estándar dentro de esta.\n",
        "\"\"\"\n",
        "def image_pre_procesamiento(image,pixel_size,max_deviation):  \n",
        "  reiniciar()  \n",
        "  original_image,r,g,b=load_image_color_fixed(image)  \n",
        "  image=g\n",
        "  array_frequency  \n",
        "  image=segmentation_devstd(image,pixel_size,max_deviation)\n",
        "  # TUNNING RECOMENDADO 10,22 o 4,40\n",
        "  image=invert_image(image)  \n",
        "#   image=dilatar(image)\n",
        "#   image=erosionar(image)\n",
        "  image=gradiente(image)  \n",
        "  return image"
      ],
      "execution_count": 0,
      "outputs": []
    },
    {
      "cell_type": "markdown",
      "metadata": {
        "id": "sgEYBHMqFYyh",
        "colab_type": "text"
      },
      "source": [
        "## 2) Función: Procesamiento de imagen"
      ]
    },
    {
      "cell_type": "code",
      "metadata": {
        "id": "z7PX0NcZFaJz",
        "colab_type": "code",
        "colab": {}
      },
      "source": [
        "\"\"\"\n",
        "Esta función segmenta las fisuras eliminando ruido\n",
        "\"\"\"\n",
        "def image_procesamiento(image,gaussiano,mediano):  \n",
        "  \n",
        "  image=remove_date(image)  \n",
        "  \n",
        "  for m in range(gaussiano):\n",
        "    image=filtro_gaussiano(image)  \n",
        "  image=esqueletizar(image)  \n",
        "  for m in range(mediano):\n",
        "    image=filtro_mediano(image)  \n",
        "  image=thr(image)  \n",
        "  \n",
        "  image=dilatar(image)\n",
        "  image=dilatar(image)\n",
        "  \n",
        "#   x,y=contornear(image)\n",
        "  return image"
      ],
      "execution_count": 0,
      "outputs": []
    },
    {
      "cell_type": "markdown",
      "metadata": {
        "id": "Nr3GGCbnE2nu",
        "colab_type": "text"
      },
      "source": [
        "## 3) Función: Detectar fisuras"
      ]
    },
    {
      "cell_type": "code",
      "metadata": {
        "id": "jzjAhLCAE5BK",
        "colab_type": "code",
        "colab": {}
      },
      "source": [
        "\"\"\"\n",
        "Esta funcion detecta las fisuras y las convierte en objetos\n",
        "al contabilizar una de ellas bajo conectividad de pixeles\n",
        "\n",
        "https://stackoverflow.com/questions/35854197/how-to-use-opencvs-connected-components-with-stats-in-python\n",
        "\n",
        "-Labels is a matrix the size of the \n",
        "input image where each element has a value equal to its label.\n",
        "\n",
        "\n",
        "0 0 0 0 0 0 \n",
        "0 1 1 0 0 0\n",
        "0 0 0 0 1 1\n",
        "0 0 1 0 0 0 \n",
        "0 0 0 0 0 0\n",
        "\n",
        "TO\n",
        "\n",
        "0 0 0 0 0 0\n",
        "0 1 1 0 0 0\n",
        "0 0 0 0 2 2\n",
        "0 0 3 0 0 0\n",
        "0 0 0 0 0 0\n",
        "\n",
        "\n",
        "-Stats is a matrix of the stats that the function \n",
        "calculates. It has a length equal to the number of \n",
        "labels and a width equal to the number of stats.\n",
        "It can be used with the OpenCV documentation for it: \n",
        "\n",
        "Statistics output for each label, including \n",
        "the background label, see below for available statistics. \n",
        "Statistics are accessed via stats[label, COLUMN] \n",
        "where available columns are defined below.\n",
        "\n",
        "  cv2.CC_STAT_LEFT \n",
        "    The leftmost (x) coordinate which is the inclusive\n",
        "    start of the bounding box in the horizontal direction.\n",
        "  \n",
        "  cv2.CC_STAT_TOP \n",
        "    The topmost (y) coordinate which is the inclusive \n",
        "    start of the bounding box in the vertical direction.\n",
        "  \n",
        "  cv2.CC_STAT_WIDTH \n",
        "    The horizontal size of the bounding box\n",
        "  \n",
        "  cv2.CC_STAT_HEIGHT\n",
        "    The vertical size of the bounding box\n",
        " \n",
        "  cv2.CC_STAT_AREA \n",
        "    The total area (in pixels) of the connected component\n",
        "    \n",
        "STATS - LEFT - TOP - WIDHT - HEIGHT - AREA\n",
        "1       NUM.   NUM.   NUM.   NUM.     NUM.\n",
        "2       NUM.   NUM.   NUM.   NUM.     NUM.\n",
        "3       NUM.   NUM.   NUM.   NUM.     NUM.\n",
        "\n",
        "Centroids is a matrix with the x and y locations \n",
        "of each centroid. The row in this matrix corresponds\n",
        "to the label number.\n",
        "\n",
        "\"\"\"\n",
        "def crack2object(image,connectivity=8):\n",
        "  # You need to choose 4 or 8 for connectivity type\n",
        "  # Perform the operation\n",
        "  output = cv2.connectedComponentsWithStats(image, \n",
        "                                            connectivity,\n",
        "                                            cv2.CV_32S)\n",
        "  num_labels = output[0]   \n",
        "  labels = output[1]\n",
        "  stats = output[2]\n",
        "  centroids = output[3]  \n",
        "  print(\"Se ha usado crack2object().\")  \n",
        "  return num_labels,labels,stats,centroids"
      ],
      "execution_count": 0,
      "outputs": []
    },
    {
      "cell_type": "markdown",
      "metadata": {
        "id": "yutD8hm5Kf6H",
        "colab_type": "text"
      },
      "source": [
        "## 4) Función: Selección de fisuras importantes"
      ]
    },
    {
      "cell_type": "code",
      "metadata": {
        "id": "tGnZB1JyKfuY",
        "colab_type": "code",
        "colab": {}
      },
      "source": [
        "\"\"\"\n",
        "Esta función dropea(elimina) las fisuras\n",
        "que tienen un área pequeña y devuelve\n",
        "el código asociado a dichas fisuras.\n",
        "\"\"\"\n",
        "\n",
        "import pandas as pd\n",
        "from pandas import ExcelWriter\n",
        "\n",
        "# Stas es arreglo que sale de crack2object\n",
        "\n",
        "def drop_small_crack(num_labels,\n",
        "                     stats,\n",
        "                     max_area_ocupado,\n",
        "                     min_area_total):  \n",
        "  df=pd.DataFrame(stats)\n",
        "  df=df.rename(columns={0: 'LEFT_X-INDEX',\n",
        "                        1: 'TOP_Y-INDEX',\n",
        "                        2: 'WIDTH',\n",
        "                        3: 'HEIGHT',\n",
        "                        4: 'AREA_BLANCO'})  \n",
        "\n",
        "  \n",
        "  df['AREA_TOTAL']=df['WIDTH']*df['HEIGHT']\n",
        "  df['AREA_OCUPADO']=df['AREA_BLANCO']/df['AREA_TOTAL']\n",
        "  df['COD']=df.index\n",
        "   \n",
        "  writer = ExcelWriter('step4_crack_data_frame_before.xlsx')\n",
        "  df.to_excel(writer,'1')\n",
        "  writer.save()\n",
        "  \n",
        "  df=df.drop(df.index[0])\n",
        "  \n",
        "  df=df.drop(df.index[df['AREA_OCUPADO']>max_area_ocupado])\n",
        "  df=df.drop(df.index[df['AREA_TOTAL']<min_area_total])\n",
        "  \n",
        "  \n",
        "  df=df.sort_values(by='AREA_BLANCO', ascending=False)  \n",
        "\n",
        "  \n",
        "  print(\"Los primeros elementos de la tabla son:\")\n",
        "  print(df['COD'][:5])\n",
        "  \n",
        "  writer = ExcelWriter('step4_crack_data_frame_after.xlsx')\n",
        "  df.to_excel(writer,'1')\n",
        "  writer.save()\n",
        "  \n",
        "  return df\n",
        "\n",
        "#df=df.reset_index(drop=True)"
      ],
      "execution_count": 0,
      "outputs": []
    },
    {
      "cell_type": "markdown",
      "metadata": {
        "id": "Y_3YLSkd-1Vl",
        "colab_type": "text"
      },
      "source": [
        "## 5) Función: Separar fisuras en imagenes"
      ]
    },
    {
      "cell_type": "code",
      "metadata": {
        "id": "YGRtyMQo-1ro",
        "colab_type": "code",
        "colab": {}
      },
      "source": [
        "\"\"\"\n",
        "Esta función genera arrays (arreglos)\n",
        "que dentro tienen imagenes binarias con el\n",
        "código (número) asignado a cada fisura\n",
        "\"\"\"\n",
        "def list_crack(labels_values_cod):\n",
        "  values=labels_values_cod.to_numpy()\n",
        "  list_crack=[]\n",
        "  img_temp=load_image(dir_original_image)\n",
        "  h,w=img_temp.shape[:2]\n",
        "  \n",
        "  for element in values:\n",
        "    crack_img = np.zeros((h,w),np.uint8)\n",
        "    pixel_x,pixel_y=np.where(labels==element)\n",
        "    try:\n",
        "      crack_img[pixel_x,pixel_y]=255\n",
        "    except:\n",
        "      print(\"Index out... Lo arreglaremos.\")\n",
        "      print(\"Se generará \")\n",
        "    list_crack.append(crack_img)    \n",
        "  print(\"Se ha actualizado lista_crack[]\")\n",
        "  return list_crack"
      ],
      "execution_count": 0,
      "outputs": []
    },
    {
      "cell_type": "code",
      "metadata": {
        "id": "eKaQ20sgqx7X",
        "colab_type": "code",
        "colab": {}
      },
      "source": [
        ""
      ],
      "execution_count": 0,
      "outputs": []
    },
    {
      "cell_type": "markdown",
      "metadata": {
        "id": "-Ndt3Rwkn0CM",
        "colab_type": "text"
      },
      "source": [
        "## 6) Imprimir todas las fisuras más grandes"
      ]
    },
    {
      "cell_type": "code",
      "metadata": {
        "id": "iCKlc1svn0VM",
        "colab_type": "code",
        "colab": {}
      },
      "source": [
        "\"\"\"\n",
        "Esta función convierte la lista de fisuras\n",
        "a arrays binarios ya que lista_fisuras\n",
        "solo devuelve el código de la fisura.\n",
        "\n",
        "Ejemplo:\n",
        "\n",
        "0 0 0 0 0 0 \n",
        "0 1 1 0 0 0\n",
        "0 0 0 0 2 2\n",
        "0 0 0 0 0 0 \n",
        "0 0 0 0 0 0\n",
        "\n",
        "TO\n",
        "B=255\n",
        "codigo=1\n",
        "0 0 0 0 0 0\n",
        "0 B B 0 0 0\n",
        "0 0 0 0 0 0\n",
        "0 0 0 0 0 0\n",
        "0 0 0 0 0 0 \n",
        "\n",
        "codigo=2\n",
        "0 0 0 0 0 0 \n",
        "0 0 0 0 0 0\n",
        "0 0 0 0 B B\n",
        "0 0 0 0 0 0 \n",
        "0 0 0 0 0 0\n",
        "\"\"\"\n",
        "# def list_crack2image(listaf):\n",
        "#   for m in range(round(len(listaf)/2)-1):\n",
        "#     if m==0: temp=listaf[0]\n",
        "#     temp=np.add(np.add(listaf[m*2],listaf[m*2+1]),temp)\n",
        "#   try:\n",
        "#     plt.imshow(temp,cmap='gray')\n",
        "#     plt.savefig('step6_allcrack.png', format='png', dpi=1000)\n",
        "#     plt.show()\n",
        "#     return temp\n",
        "#   except:\n",
        "#     print(\"Error:No se pudo hacer plot, prueba reduciendo area mínima\")\n",
        "\n",
        "def list_crack2image(lista_fisuras):\n",
        "  for m in range(len(lista_fisuras)):\n",
        "    if m==0:\n",
        "      sum_temp=lista_fisuras[0]\n",
        "    if m<(len(lista_fisuras)-1):\n",
        "      temp=lista_fisuras[m+1]\n",
        "      sum_temp=np.add(sum_temp,temp)\n",
        "  try:\n",
        "    plt.imshow(sum_temp,cmap='gray')\n",
        "    plt.savefig('step6_allcrack.png', format='png', dpi=1000)\n",
        "    plt.show()\n",
        "    return sum_temp\n",
        "  except:\n",
        "    print(\"Error:No se pudo hacer plot, prueba reduciendo area mínima\")"
      ],
      "execution_count": 0,
      "outputs": []
    },
    {
      "cell_type": "markdown",
      "metadata": {
        "id": "qSIcpF6n7ifS",
        "colab_type": "text"
      },
      "source": [
        "## 7) Generar JPG de lista de imagenes ARRAY"
      ]
    },
    {
      "cell_type": "code",
      "metadata": {
        "id": "nlOOqUQ57h3L",
        "colab_type": "code",
        "colab": {}
      },
      "source": [
        "\"\"\"\n",
        "Esta función junta todas las fisuras en imagenes separadas\n",
        "y genera un reporte en PDF descargable en los archivos\n",
        "o directorio.\n",
        "\"\"\"\n",
        "from fpdf import FPDF\n",
        "\n",
        "def listimage2pdf(dir_original_image,lista,dpi):\n",
        "\n",
        "  #Format can be (x,y) or 'A4' or similars\n",
        "  resize_porcentaje=0.5\n",
        "    \n",
        "  ori_image=load_image(dir_original_image)\n",
        "  ori_image_resized=img_resize(ori_image,resize_porcentaje)\n",
        "  r = len(ori_image_resized)  \n",
        "  c = len(ori_image_resized[0]) \n",
        "  \n",
        "  plt.imshow(ori_image_resized,cmap='gray')\n",
        "  plt.savefig('step7_ori.jpg',format='jpg',dpi=1000)  \n",
        "  fig.show()\n",
        "  \n",
        "  pdf = FPDF(format=(c+10,r+10))\n",
        "\n",
        "  pdf.set_font('Arial','B',round(r/20))\n",
        "  print(\"Se ha usado listimage2pdf.\")\n",
        "  print(\"Empezando a crear PDF con fisuras...\")\n",
        "  \n",
        "   \n",
        "  pdf.add_page()\n",
        "  pdf.image('step7_ori.jpg',0,0,c,r)\n",
        "  pdf.cell(20,100,\"Imagen Original Re-escalada\")\n",
        "  \n",
        "  for i in range(len(lista)):\n",
        "        \n",
        "    img_resized=img_resize(lista[i],resize_porcentaje)\n",
        "    r1 = len(img_resized)  \n",
        "    c1 = len(img_resized[0])\n",
        "    \n",
        "    plt.imshow(img_resized,cmap='gray')\n",
        "    file_name='temp'+str(i)+'.jpg'\n",
        "    plt.savefig(file_name,format='jpg',dpi=1000) \n",
        "    pdf.add_page()\n",
        "    pdf.image(file_name,0,0,c,r)\n",
        "    plt.show()\n",
        "    \n",
        "    os.remove(file_name)\n",
        "\n",
        "    page_content='Fisura N°'+str(i+1)\n",
        "    pdf.cell(20,100,page_content)\n",
        "    \n",
        "  pdf.output(\"reporte_fisuras.pdf\", \"F\")"
      ],
      "execution_count": 0,
      "outputs": []
    },
    {
      "cell_type": "markdown",
      "metadata": {
        "id": "RnNnxmKuVR7G",
        "colab_type": "text"
      },
      "source": [
        "## 8) CONFIGURACIÓN (file.jpg input)"
      ]
    },
    {
      "cell_type": "code",
      "metadata": {
        "id": "oZXesR-ZVRch",
        "colab_type": "code",
        "colab": {}
      },
      "source": [
        "\"\"\"\n",
        "Se configuran las variables antes de ejecutar \n",
        "el código.\n",
        "\"\"\"\n",
        "from mpl_toolkits import mplot3d\n",
        "import matplotlib.pyplot as plt\n",
        "from mpl_toolkits.mplot3d import Axes3D\n",
        "import os\n",
        "\n",
        "\n",
        "imagenes=[]\n",
        "numero_fisuras=0\n",
        "dir_original_image=\"2_2.jpg\"\n",
        "kernel = np.ones((5,5),np.uint8)\n",
        "pixel_size=range(4,20,1)#30\n",
        "max_deviation=range(5,60,1)#300\n",
        "\n",
        "#Modificar esta constante, se puede mejorar esta selección\n",
        "pixi=12 \n",
        "\n",
        "\n",
        "x_list=[]\n",
        "y_list=[]\n",
        "z_list=[]\n",
        "lista_fisuras=[]\n",
        "\n",
        "\n",
        "\"\"\"\n",
        "ANALIZAR EL MAPA DE SEGMENTACIÓN\n",
        "\"\"\"\n",
        "map_seg_3d=0\n",
        "map_seg_2d=1\n",
        "\n",
        "\"\"\"\n",
        "ELECCIÓN AUTOMÁTICA DE SEGMENTACIÓN\n",
        "\"\"\"\n",
        "clear_output() # Borramos output"
      ],
      "execution_count": 0,
      "outputs": []
    },
    {
      "cell_type": "markdown",
      "metadata": {
        "id": "7wu6dBX5CaJg",
        "colab_type": "text"
      },
      "source": [
        "### Mapa de segmentación 3D"
      ]
    },
    {
      "cell_type": "markdown",
      "metadata": {
        "id": "3RK13NhJxyGV",
        "colab_type": "text"
      },
      "source": [
        "Genera los cálculos necesarios para poder plotear la siguiente imagen.<p>\n",
        "<p>\n",
        "  \n",
        "![map_seg_3d](https://i.imgur.com/R33Bfx0.png)\n",
        "  \n",
        "<p>\n",
        "**La imagen es referencial**"
      ]
    },
    {
      "cell_type": "code",
      "metadata": {
        "id": "qF8Fj80-Cazg",
        "colab_type": "code",
        "colab": {}
      },
      "source": [
        "\"\"\"\n",
        "Los valores de map_seg_3d se modifican en la sección de\n",
        "\"CONFIGURACION\"\n",
        "\n",
        "map_seg_3d=0 NO EJECUTA\n",
        "map_seg_2d=1 SÍ EJECUTA\n",
        "\"\"\"\n",
        "if map_seg_3d==1:  \n",
        "  for x in pixel_size:\n",
        "    for y in max_deviation:\n",
        "      print (x,y)\n",
        "      image=image_pre_procesamiento(dir_original_image,x,y)\n",
        "      numeros, frecuencias= array_frequency(image)\n",
        "\n",
        "      try:\n",
        "        freq_255=frecuencias[1] # Puede que no exista color blanco\n",
        "      except:\n",
        "        freq_255=0\n",
        "\n",
        "      x_list.append(int(x))\n",
        "      y_list.append(y)     \n",
        "      z_list.append(freq_255)\n",
        "\n",
        "  x_list_np=np.asarray(x_list)\n",
        "  y_list_np=np.asarray(y_list)\n",
        "  z_list_np=np.asarray(z_list)\n",
        "  #Normalizamos las celdas de color blanco\n",
        "  a=(z_list_np-np.min(z_list_np))/np.ptp(z_list_np)\n",
        "\n",
        "  X=np.asarray(x_list_np)\n",
        "  Y=np.asarray(y_list_np)\n",
        "  Z=np.asarray(a)\n",
        "\n",
        "  len_pixel_size=len(pixel_size)\n",
        "  len_max_deviation=len(max_deviation)\n",
        "\n",
        "  x_reshaped=np.reshape(X,(len_max_deviation,len_pixel_size))\n",
        "  y_reshaped=np.reshape(Y,(len_max_deviation,len_pixel_size))\n",
        "  z_reshaped=np.reshape(Z,(len_max_deviation,len_pixel_size))\n",
        "\n",
        "  color_t=np.arange(len(X))\n",
        "\n",
        "  fig = plt.figure()\n",
        "  ax = fig.add_subplot(111, projection='3d')\n",
        "\n",
        "  # SURFACE\n",
        "\n",
        "  # ax.plot_surface(x_reshaped, y_reshaped, z_reshaped) \n",
        "\n",
        "  #SCATTER\n",
        "  ax.scatter(x_reshaped, y_reshaped, z_reshaped, c=color_t, marker='o')\n",
        "\n",
        "  ax.set_xlabel('Tam. de pix.')\n",
        "  ax.set_ylabel('Máx desv. por celda rect.')\n",
        "  ax.set_zlabel('Normalizado pix. blanc.')\n",
        "  print(\"Se ha usado map_seg_3d=1\")\n",
        "  name_file='step8_map_seg_3d.png'\n",
        "  plt.savefig(name_file, format='png', dpi=1000)\n",
        "  print(\"Se ha guardado una imagen con nombre:\",name_file)\n",
        "  plt.show()"
      ],
      "execution_count": 0,
      "outputs": []
    },
    {
      "cell_type": "markdown",
      "metadata": {
        "id": "0Ugb_TvrG3Sa",
        "colab_type": "text"
      },
      "source": [
        "### Mapa de segmentación 2D\n"
      ]
    },
    {
      "cell_type": "markdown",
      "metadata": {
        "id": "uae1eE3C1mza",
        "colab_type": "text"
      },
      "source": [
        "\n",
        "Poner 1 si quieres plotear en pixel size constante, max deviation vs iteracion <p>\n",
        "\n",
        "  ![texto alternativo](https://i.imgur.com/HgpQPkl.png)\n",
        "  <p>\n",
        "      La imagen es referencial<p>"
      ]
    },
    {
      "cell_type": "code",
      "metadata": {
        "id": "VR1KMwOHG1si",
        "colab_type": "code",
        "outputId": "f36a8a0c-3516-4da2-8e26-4e3f940a6fbc",
        "colab": {
          "base_uri": "https://localhost:8080/"
        }
      },
      "source": [
        "\"\"\"\n",
        "Los valores de map_seg_3d se modifican en la sección de\n",
        "\"CONFIGURACION\"\n",
        "\n",
        "map_seg_2d=0 NO EJECUTA\n",
        "map_seg_2d=1 SÍ EJECUTA\n",
        "\"\"\"\n",
        "if map_seg_2d==1:\n",
        "  for m in max_deviation:\n",
        "    image=image_pre_procesamiento(dir_original_image,pixi,m)\n",
        "    numeros, frecuencias= array_frequency(image)\n",
        "    \n",
        "    try:\n",
        "      freq_255=frecuencias[1] # Puede que no exista color blanco\n",
        "    except:\n",
        "      freq_255=0\n",
        "    print(\"----------------------------------------------------\")\n",
        "    print(\"ITER:\",m,\"PIXSIZE:\",pixi,\"WHITEPIX:\",freq_255)\n",
        "    #Ponemos los valores en listas\n",
        "    x_list.append(int(m))\n",
        "    y_list.append(freq_255)\n",
        "\n",
        "  x_list_np=np.asarray(x_list)\n",
        "  y_list_np=np.asarray(y_list)\n",
        "\n",
        "  #Normalizamos las celdas de color blanco\n",
        "  a=(y_list_np-np.min(y_list_np))/np.ptp(y_list_np)\n",
        "\n",
        "  X=np.asarray(x_list_np)\n",
        "  Y=np.asarray(a)\n",
        "\n",
        "  color_t=np.arange(len(X))\n",
        "\n",
        "  fig = plt.figure()\n",
        "  ax = fig.add_subplot(111)\n",
        "\n",
        "  #SCATTER\n",
        "  ax.scatter(X, Y)\n",
        "  ax.set_xlabel('Max. Deviation')\n",
        "  ax.set_ylabel('White Pixel Norm.')\n",
        "  ax.set_title('Pixel_size const.')\n",
        "  \n",
        "  clear_output() # Borramos output\n",
        "  name_file='step8_map_seg_2d.png'\n",
        "   \n",
        "  plt.savefig(name_file, format='png', dpi=1000)\n",
        "  plt.show()\n",
        "  print(\"Se ha guardado una image con nombre:\",name_file) "
      ],
      "execution_count": 0,
      "outputs": [
        {
          "output_type": "display_data",
          "data": {
            "image/png": "[encoded data removed]",
            "text/plain": [
              "<Figure size 432x288 with 1 Axes>"
            ]
          },
          "metadata": {
            "tags": []
          }
        },
        {
          "output_type": "stream",
          "text": [
            "Se ha guardado una image con nombre: step8_map_seg_2d.png\n"
          ],
          "name": "stdout"
        }
      ]
    },
    {
      "cell_type": "markdown",
      "metadata": {
        "id": "UHl7g74QiW60",
        "colab_type": "text"
      },
      "source": [
        "### Seleccionando el mejor threshold 2D"
      ]
    },
    {
      "cell_type": "markdown",
      "metadata": {
        "id": "JTbmkKQP09NF",
        "colab_type": "text"
      },
      "source": [
        "Luego de calculado el mejor threshold se selecciona la mejor desviación estándar con la ayuda de facilidad de cálculo de computo<p> La imagen es referencial <p>\n",
        "\n",
        "![Ga](https://i.imgur.com/dwvLQfP.png)\n",
        "\n"
      ]
    },
    {
      "cell_type": "code",
      "metadata": {
        "id": "m08sXndXV8OX",
        "colab_type": "code",
        "outputId": "b4c9b057-3b8e-4084-fa61-a7edffaa7758",
        "colab": {
          "base_uri": "https://localhost:8080/"
        }
      },
      "source": [
        "yfunc=y_list_np\n",
        "xfunc=x_list_np\n",
        "\n",
        "y1=np.amax(yfunc)\n",
        "y2=yfunc[-1]\n",
        "\n",
        "y1_index=np.where(yfunc==y1)\n",
        "y2_index=np.where(yfunc==y2)\n",
        "\n",
        "# print (y1_index[0],y2_index[0])\n",
        "\n",
        "x1=xfunc[y1_index]\n",
        "x2=xfunc[y2_index]\n",
        "\n",
        "print ('Y:',yfunc)\n",
        "print ('X:',xfunc)\n",
        "print ('y1:',y1,'y2:',y2)\n",
        "print ('x1:',x1,'x2:',x2)\n",
        "\n",
        "\n",
        "rangoX=np.where((yfunc/y1)>0.245) # Best 0.225\n",
        "\n",
        "best_max_deviation=rangoX[-1][-1]\n",
        "best_pixel_size=4\n",
        "\n",
        "print (\"Best max parameters\")\n",
        "print (\"Best max dev.:\",best_max_deviation,\"Best pixel size\", best_pixel_size)"
      ],
      "execution_count": 0,
      "outputs": [
        {
          "output_type": "stream",
          "text": [
            "Y: [313808 328496 324912 318640 303088 290288 278368 261744 238608 219504\n",
            " 194656 173536 152208 138576 126128 114928 106880 100080  92960  86288\n",
            "  79792  75712  70768  66016  61392  56832  53200  50272  46416  42928\n",
            "  41264  38064  35168  32816  31040  30208  28688  27472  26624  25216\n",
            "  23888  22848  21984  20928  20336  19680  18432  17776  17088  16896\n",
            "  16704  15568  14432  13472  13376]\n",
            "X: [ 5  6  7  8  9 10 11 12 13 14 15 16 17 18 19 20 21 22 23 24 25 26 27 28\n",
            " 29 30 31 32 33 34 35 36 37 38 39 40 41 42 43 44 45 46 47 48 49 50 51 52\n",
            " 53 54 55 56 57 58 59]\n",
            "y1: 328496 y2: 13376\n",
            "x1: [6] x2: [59]\n",
            "Best max parameters\n",
            "Best max dev.: 19 Best pixel size 4\n"
          ],
          "name": "stdout"
        }
      ]
    },
    {
      "cell_type": "markdown",
      "metadata": {
        "id": "BKyJz3LbgxvZ",
        "colab_type": "text"
      },
      "source": [
        "## 9) MAIN"
      ]
    },
    {
      "cell_type": "code",
      "metadata": {
        "id": "fplrWgiJgxe0",
        "colab_type": "code",
        "outputId": "17c8cab7-cf1a-4e8d-b2c8-12d4524f1919",
        "colab": {
          "base_uri": "https://localhost:8080/",
          "height": 1000
        }
      },
      "source": [
        "\"\"\"\n",
        "  MAIN\n",
        "\"\"\"\n",
        "imagenes=[]\n",
        "\n",
        "if __name__ == \"__main__\":\n",
        "  \"\"\"\n",
        "  Se pre-procesa la imagen con desviación estándar\n",
        "  \"\"\"\n",
        "  image=image_pre_procesamiento(dir_original_image,\n",
        "                                best_pixel_size,\n",
        "                                best_max_deviation) \n",
        "  \n",
        "  plt.imshow(image,cmap='gray')\n",
        "  plt.savefig('step9_ImgPrePro.png', format='png', dpi=1000)\n",
        "  plt.show()\n",
        "  \"\"\"\n",
        "  Se procesa la imagen eliminando ruido general y\n",
        "  sacando el esqueleto de todas las fisuras.\n",
        "  Luego se hace el contorno de cada esqueleto\n",
        "  \"\"\"\n",
        "  image=image_procesamiento(image,gaussiano=3,mediano=1)\n",
        "  \n",
        "  plt.imshow(image,cmap='gray')\n",
        "  plt.savefig('step9_ImgPro.png', format='png', dpi=1000)\n",
        "  plt.show()\n",
        "  \n",
        "  \n",
        "  \"\"\"\n",
        "  Ahora cada fisura se segmenta con la conectividad\n",
        "  dentro de la imagen binaria y se pasa a un Dataframe\n",
        "  para un filtrado más específico\n",
        "  \"\"\"\n",
        "  num_labels, labels, stats, centroids=crack2object(image)\n",
        "  \n",
        "  \"\"\"\n",
        "  Se quitan las fisuras pequeñas ya que no representan\n",
        "  daños o pueden ser ruido aún no filtrado. Se escoje las\n",
        "  fisuras más grandes y se reporta.\n",
        "  \"\"\"\n",
        "  labels_values=drop_small_crack(num_labels,\n",
        "                                 stats,\n",
        "                                 max_area_ocupado=0.4,\n",
        "                                 min_area_total=1000)\n",
        "  labels_values_cod=labels_values['COD']\n",
        "  print(labels_values.shape,\"fisuras encontradas\")\n",
        "  \"\"\"\n",
        "  Se crea una lista con las fisuras, cada una es un arreglo\n",
        "  separado, entonces se guarda en un arreglo llamado list_crack  \n",
        "  \"\"\"\n",
        "  lista_fisuras=list_crack(labels_values_cod)\n",
        "  \n",
        "  \n",
        "  \"\"\"\n",
        "  Se genera la imagen final con las fisuras acopladas en \n",
        "  una sola, la función devuelve en un array\n",
        "  las imagenes con la prioridad de fisura encontrada.\n",
        "  \n",
        "  Ejem:\n",
        "  \n",
        "  lista_fisuras[0] tendría la fisura con área más grande\n",
        "  área de width x heigh no de área blanco dentro ese rectángulo.  \n",
        "  \"\"\"\n",
        "  \n",
        "  all_cracks=list_crack2image(lista_fisuras)\n",
        "  \n",
        "  plt.imshow(all_cracks,cmap='gray')\n",
        "  plt.savefig('ste9_allcracks.png', format='png', dpi=1000)\n",
        "  plt.show()\n",
        "  \n",
        "  \"\"\"\n",
        "  Con las imagenes en arrays se genera un reporte en pdf.\n",
        "  \"\"\"\n",
        "  \n",
        "  listimage2pdf(dir_original_image,lista_fisuras,dpi=1000)\n",
        "  \n",
        "  "
      ],
      "execution_count": 0,
      "outputs": [
        {
          "output_type": "stream",
          "text": [
            "Se ha usado load_image_color_fixed().\n",
            "Se ha usado segmentation_devstd().\n",
            "Se ha usado invert_image().\n",
            "Se ha usado gradiente().\n"
          ],
          "name": "stdout"
        },
        {
          "output_type": "display_data",
          "data": {
            "image/png": "[encoded data removed]",
            "text/plain": [
              "<Figure size 432x288 with 1 Axes>"
            ]
          },
          "metadata": {
            "tags": []
          }
        },
        {
          "output_type": "stream",
          "text": [
            "Image size: 2044 x 1532\n",
            "Deleting date info . . .\n",
            "1596:1913 1272:1363\n",
            "Se ha usado remove_date().\n",
            "Se ha usado filtro_gaussiano().\n",
            "Se ha usado filtro_gaussiano().\n",
            "Se ha usado filtro_gaussiano().\n",
            "Se ha usado esqueletizar().\n",
            "Se ha usado filtro_median().\n",
            "Se ha usado thr().\n",
            "Se ha usado dilatar().\n",
            "Se ha usado dilatar().\n"
          ],
          "name": "stdout"
        },
        {
          "output_type": "display_data",
          "data": {
            "image/png": "[encoded data removed]",
            "text/plain": [
              "<Figure size 432x288 with 1 Axes>"
            ]
          },
          "metadata": {
            "tags": []
          }
        },
        {
          "output_type": "stream",
          "text": [
            "Se ha usado crack2object().\n",
            "Los primeros elementos de la tabla son:\n",
            "47    47\n",
            "90    90\n",
            "76    76\n",
            "11    11\n",
            "99    99\n",
            "Name: COD, dtype: int64\n",
            "(8, 8) fisuras encontradas\n",
            "Se ha usado load_image().\n",
            "Se ha actualizado lista_crack[]\n"
          ],
          "name": "stdout"
        },
        {
          "output_type": "display_data",
          "data": {
            "image/png": "[encoded data removed]",
            "text/plain": [
              "<Figure size 432x288 with 1 Axes>"
            ]
          },
          "metadata": {
            "tags": []
          }
        },
        {
          "output_type": "display_data",
          "data": {
            "image/png": "[encoded data removed]",
            "text/plain": [
              "<Figure size 432x288 with 1 Axes>"
            ]
          },
          "metadata": {
            "tags": []
          }
        },
        {
          "output_type": "stream",
          "text": [
            "Se ha usado load_image().\n",
            "Se ha usado resize().\n",
            "Se ha usado listimage2pdf.\n",
            "Empezando a crear PDF con fisuras...\n",
            "Se ha usado resize().\n"
          ],
          "name": "stdout"
        },
        {
          "output_type": "display_data",
          "data": {
            "image/png": "[encoded data removed]",
            "text/plain": [
              "<Figure size 432x288 with 1 Axes>"
            ]
          },
          "metadata": {
            "tags": []
          }
        },
        {
          "output_type": "stream",
          "text": [
            "Se ha usado resize().\n"
          ],
          "name": "stdout"
        },
        {
          "output_type": "display_data",
          "data": {
            "image/png": "[encoded data removed]",
            "text/plain": [
              "<Figure size 432x288 with 1 Axes>"
            ]
          },
          "metadata": {
            "tags": []
          }
        },
        {
          "output_type": "stream",
          "text": [
            "Se ha usado resize().\n"
          ],
          "name": "stdout"
        },
        {
          "output_type": "display_data",
          "data": {
            "image/png": "[encoded data removed]",
            "text/plain": [
              "<Figure size 432x288 with 1 Axes>"
            ]
          },
          "metadata": {
            "tags": []
          }
        },
        {
          "output_type": "stream",
          "text": [
            "Se ha usado resize().\n"
          ],
          "name": "stdout"
        },
        {
          "output_type": "display_data",
          "data": {
            "image/png": "[encoded data removed]",
            "text/plain": [
              "<Figure size 432x288 with 1 Axes>"
            ]
          },
          "metadata": {
            "tags": []
          }
        },
        {
          "output_type": "stream",
          "text": [
            "Se ha usado resize().\n"
          ],
          "name": "stdout"
        },
        {
          "output_type": "display_data",
          "data": {
            "image/png": "[encoded data removed]",
            "text/plain": [
              "<Figure size 432x288 with 1 Axes>"
            ]
          },
          "metadata": {
            "tags": []
          }
        },
        {
          "output_type": "stream",
          "text": [
            "Se ha usado resize().\n"
          ],
          "name": "stdout"
        },
        {
          "output_type": "display_data",
          "data": {
            "image/png": "[encoded data removed]",
            "text/plain": [
              "<Figure size 432x288 with 1 Axes>"
            ]
          },
          "metadata": {
            "tags": []
          }
        },
        {
          "output_type": "stream",
          "text": [
            "Se ha usado resize().\n"
          ],
          "name": "stdout"
        },
        {
          "output_type": "display_data",
          "data": {
            "image/png": "[encoded data removed]",
            "text/plain": [
              "<Figure size 432x288 with 1 Axes>"
            ]
          },
          "metadata": {
            "tags": []
          }
        },
        {
          "output_type": "stream",
          "text": [
            "Se ha usado resize().\n"
          ],
          "name": "stdout"
        },
        {
          "output_type": "display_data",
          "data": {
            "image/png": "[encoded data removed]",
            "text/plain": [
              "<Figure size 432x288 with 1 Axes>"
            ]
          },
          "metadata": {
            "tags": []
          }
        }
      ]
    },
    {
      "cell_type": "code",
      "metadata": {
        "id": "JqZNrpfdCrVy",
        "colab_type": "code",
        "colab": {}
      },
      "source": [
        "#imprimir()"
      ],
      "execution_count": 0,
      "outputs": []
    }
  ]
}